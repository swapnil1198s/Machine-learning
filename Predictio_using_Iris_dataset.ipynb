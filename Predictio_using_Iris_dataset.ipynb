{
 "cells": [
  {
   "cell_type": "code",
   "execution_count": 1,
   "metadata": {},
   "outputs": [],
   "source": [
    "import numpy as np\n",
    "import pylab as pl\n",
    "from sklearn.datasets import load_iris\n",
    "iris_dataset = load_iris()\n",
    "X = iris_dataset['data'] # features\n",
    "Y = iris_dataset['target']"
   ]
  },
  {
   "cell_type": "code",
   "execution_count": 4,
   "metadata": {},
   "outputs": [
    {
     "name": "stdout",
     "output_type": "stream",
     "text": [
      "Number of features:  4\n"
     ]
    }
   ],
   "source": [
    "print(\"Number of features: \" , X.shape[1])"
   ]
  },
  {
   "cell_type": "code",
   "execution_count": 5,
   "metadata": {},
   "outputs": [
    {
     "name": "stdout",
     "output_type": "stream",
     "text": [
      "Number of Data points:  150\n"
     ]
    }
   ],
   "source": [
    "print(\"Number of Data points: \", X.shape[0])"
   ]
  },
  {
   "cell_type": "code",
   "execution_count": 51,
   "metadata": {},
   "outputs": [
    {
     "name": "stdout",
     "output_type": "stream",
     "text": [
      "Mean of Class 0: \n",
      "\n",
      "Mean of feature X1 of class Y=0:  5.006\n",
      "Mean of feature X2 of class Y=0:  3.428\n",
      "Mean of feature X3 of class Y=0:  1.4620000000000002\n",
      "Mean of feature X4 of class Y=0:  0.24599999999999997\n"
     ]
    }
   ],
   "source": [
    "print(\"Mean of Class 0: \\n\")\n",
    "mean_X1_Y0 = np.mean(X[Y==0, 0], axis=0)\n",
    "print(\"Mean of feature X1 of class Y=0: \", mean_X1_Y0)\n",
    "mean_X2_Y0 = np.mean(X[Y==0, 1], axis=0)\n",
    "print(\"Mean of feature X2 of class Y=0: \", mean_X2_Y0)\n",
    "mean_X3_Y0 = np.mean(X[Y==0, 2], axis=0)\n",
    "print(\"Mean of feature X3 of class Y=0: \", mean_X3_Y0)\n",
    "mean_X4_Y0 = np.mean(X[Y==0, 3], axis=0)\n",
    "print(\"Mean of feature X4 of class Y=0: \", mean_X4_Y0)\n"
   ]
  },
  {
   "cell_type": "code",
   "execution_count": 52,
   "metadata": {},
   "outputs": [
    {
     "name": "stdout",
     "output_type": "stream",
     "text": [
      "Mean of Class 1:\n",
      "\n",
      "Mean of feature X1 of class Y=1:  5.936\n",
      "Mean of feature X2 of class Y=1:  2.7700000000000005\n",
      "Mean of feature X3 of class Y=1:  4.26\n",
      "Mean of feature X4 of class Y=1:  1.3259999999999998\n"
     ]
    }
   ],
   "source": [
    "print(\"Mean of Class 1:\\n\")\n",
    "mean_X1_Y1 = np.mean(X[Y==1, 0], axis=0)\n",
    "print(\"Mean of feature X1 of class Y=1: \", mean_X1_Y1)\n",
    "mean_X2_Y1 = np.mean(X[Y==1, 1], axis=0)\n",
    "print(\"Mean of feature X2 of class Y=1: \", mean_X2_Y1)\n",
    "mean_X3_Y1 = np.mean(X[Y==1, 2], axis=0)\n",
    "print(\"Mean of feature X3 of class Y=1: \", mean_X3_Y1)\n",
    "mean_X4_Y1 = np.mean(X[Y==1, 3], axis=0)\n",
    "print(\"Mean of feature X4 of class Y=1: \", mean_X4_Y1)"
   ]
  },
  {
   "cell_type": "code",
   "execution_count": 53,
   "metadata": {},
   "outputs": [
    {
     "name": "stdout",
     "output_type": "stream",
     "text": [
      "Mean of Class 2:\n",
      "\n",
      "Mean of feature X1 of class Y=2:  6.587999999999998\n",
      "Mean of feature X2 of class Y=2:  2.974\n",
      "Mean of feature X3 of class Y=2:  5.5520000000000005\n",
      "Mean of feature X4 of class Y=2:  2.0260000000000002\n"
     ]
    }
   ],
   "source": [
    "print(\"Mean of Class 2:\\n\")\n",
    "mean_X1_Y2 = np.mean(X[Y==2, 0], axis=0)\n",
    "print(\"Mean of feature X1 of class Y=2: \", mean_X1_Y2)\n",
    "mean_X2_Y2 = np.mean(X[Y==2, 1], axis=0)\n",
    "print(\"Mean of feature X2 of class Y=2: \", mean_X2_Y2)\n",
    "mean_X3_Y2 = np.mean(X[Y==2, 2], axis=0)\n",
    "print(\"Mean of feature X3 of class Y=2: \", mean_X3_Y2)\n",
    "mean_X4_Y2 = np.mean(X[Y==2, 3], axis=0)\n",
    "print(\"Mean of feature X4 of class Y=2: \", mean_X4_Y2)"
   ]
  },
  {
   "cell_type": "code",
   "execution_count": 54,
   "metadata": {},
   "outputs": [
    {
     "name": "stdout",
     "output_type": "stream",
     "text": [
      "Standard Deviation of Class 0: \n",
      "\n",
      "Standard Deviation of feature X1 of class Y=0:  0.3489469873777391\n",
      "Standard Deviation of feature X2 of class Y=0:  0.37525458025186054\n",
      "Standard Deviation of feature X3 of class Y=0:  0.17191858538273283\n",
      "Standard Deviation of feature X4 of class Y=0:  0.1043264108459598 \n",
      "\n",
      "Standard Deviation of Class 1:\n",
      "\n",
      "Standard Deviation of feature X1 of class Y=1:  0.5109833656783751\n",
      "Standard Deviation of feature X2 of class Y=1:  0.31064449134018135\n",
      "Standard Deviation of feature X3 of class Y=1:  0.4651881339845203\n",
      "Standard Deviation of feature X4 of class Y=1:  0.19576516544063705 \n",
      "\n",
      "Standard Deviation of Class 2:\n",
      "\n",
      "Standard Deviation of feature X1 of class Y=2:  0.6294886813914926\n",
      "Standard Deviation of feature X2 of class Y=2:  0.3192553836664309\n",
      "Standard Deviation of feature X3 of class Y=2:  0.546347874526844\n",
      "Standard Deviation of feature X4 of class Y=2:  0.2718896835115301\n"
     ]
    }
   ],
   "source": [
    "print(\"Standard Deviation of Class 0: \\n\")\n",
    "sd_X1_Y0 = np.std(X[Y==0, 0], axis=0)\n",
    "print(\"Standard Deviation of feature X1 of class Y=0: \", sd_X1_Y0)\n",
    "sd_X2_Y0 = np.std(X[Y==0, 1], axis=0)\n",
    "print(\"Standard Deviation of feature X2 of class Y=0: \", sd_X2_Y0)\n",
    "sd_X3_Y0 = np.std(X[Y==0, 2], axis=0)\n",
    "print(\"Standard Deviation of feature X3 of class Y=0: \", sd_X3_Y0)\n",
    "sd_X4_Y0 = np.std(X[Y==0, 3], axis=0)\n",
    "print(\"Standard Deviation of feature X4 of class Y=0: \", sd_X4_Y0, \"\\n\")\n",
    "\n",
    "print(\"Standard Deviation of Class 1:\\n\")\n",
    "sd_X1_Y1 = np.std(X[Y==1, 0], axis=0)\n",
    "print(\"Standard Deviation of feature X1 of class Y=1: \", sd_X1_Y1)\n",
    "sd_X2_Y1 = np.std(X[Y==1, 1], axis=0)\n",
    "print(\"Standard Deviation of feature X2 of class Y=1: \", sd_X2_Y1)\n",
    "sd_X3_Y1 = np.std(X[Y==1, 2], axis=0)\n",
    "print(\"Standard Deviation of feature X3 of class Y=1: \", sd_X3_Y1)\n",
    "sd_X4_Y1 = np.std(X[Y==1, 3], axis=0)\n",
    "print(\"Standard Deviation of feature X4 of class Y=1: \", sd_X4_Y1, \"\\n\")\n",
    "\n",
    "print(\"Standard Deviation of Class 2:\\n\")\n",
    "sd_X1_Y2 = np.std(X[Y==2, 0], axis=0)\n",
    "print(\"Standard Deviation of feature X1 of class Y=2: \", sd_X1_Y2)\n",
    "sd_X2_Y2 = np.std(X[Y==2, 1], axis=0)\n",
    "print(\"Standard Deviation of feature X2 of class Y=2: \", sd_X2_Y2)\n",
    "sd_X3_Y2 = np.std(X[Y==2, 2], axis=0)\n",
    "print(\"Standard Deviation of feature X3 of class Y=2: \", sd_X3_Y2)\n",
    "sd_X4_Y2 = np.std(X[Y==2, 3], axis=0)\n",
    "print(\"Standard Deviation of feature X4 of class Y=2: \", sd_X4_Y2)"
   ]
  },
  {
   "cell_type": "code",
   "execution_count": 55,
   "metadata": {},
   "outputs": [
    {
     "name": "stdout",
     "output_type": "stream",
     "text": [
      "Variance of Class 0: \n",
      "\n",
      "Variance of feature X1 of class Y=0:  0.12176400000000002\n",
      "Variance of feature X2 of class Y=0:  0.14081600000000002\n",
      "Variance of feature X3 of class Y=0:  0.029555999999999995\n",
      "Variance of feature X4 of class Y=0:  0.010883999999999998 \n",
      "\n",
      "Variance of Class 1:\n",
      "\n",
      "Variance of feature X1 of class Y=1:  0.261104\n",
      "Variance of feature X2 of class Y=1:  0.09650000000000002\n",
      "Variance of feature X3 of class Y=1:  0.21640000000000004\n",
      "Variance of feature X4 of class Y=1:  0.038324 \n",
      "\n",
      "Variance of Class 2:\n",
      "\n",
      "Variance of feature X1 of class Y=2:  0.3962560000000001\n",
      "Variance of feature X2 of class Y=2:  0.10192399999999999\n",
      "Variance of feature X3 of class Y=2:  0.29849600000000004\n",
      "Variance of feature X4 of class Y=2:  0.07392399999999999\n"
     ]
    }
   ],
   "source": [
    "print(\"Variance of Class 0: \\n\")\n",
    "v_X1_Y0 = np.var(X[Y==0, 0], axis=0)\n",
    "print(\"Variance of feature X1 of class Y=0: \", v_X1_Y0)\n",
    "v_X2_Y0 = np.var(X[Y==0, 1], axis=0)\n",
    "print(\"Variance of feature X2 of class Y=0: \", v_X2_Y0)\n",
    "v_X3_Y0 = np.var(X[Y==0, 2], axis=0)\n",
    "print(\"Variance of feature X3 of class Y=0: \", v_X3_Y0)\n",
    "v_X4_Y0 = np.var(X[Y==0, 3], axis=0)\n",
    "print(\"Variance of feature X4 of class Y=0: \", v_X4_Y0, \"\\n\")\n",
    "\n",
    "print(\"Variance of Class 1:\\n\")\n",
    "v_X1_Y1 = np.var(X[Y==1, 0], axis=0)\n",
    "print(\"Variance of feature X1 of class Y=1: \", v_X1_Y1)\n",
    "v_X2_Y1 = np.var(X[Y==1, 1], axis=0)\n",
    "print(\"Variance of feature X2 of class Y=1: \", v_X2_Y1)\n",
    "v_X3_Y1 = np.var(X[Y==1, 2], axis=0)\n",
    "print(\"Variance of feature X3 of class Y=1: \", v_X3_Y1)\n",
    "v_X4_Y1 = np.var(X[Y==1, 3], axis=0)\n",
    "print(\"Variance of feature X4 of class Y=1: \", v_X4_Y1, \"\\n\")\n",
    "\n",
    "print(\"Variance of Class 2:\\n\")\n",
    "v_X1_Y2 = np.var(X[Y==2, 0], axis=0)\n",
    "print(\"Variance of feature X1 of class Y=2: \", v_X1_Y2)\n",
    "v_X2_Y2 = np.var(X[Y==2, 1], axis=0)\n",
    "print(\"Variance of feature X2 of class Y=2: \", v_X2_Y2)\n",
    "v_X3_Y2 = np.var(X[Y==2, 2], axis=0)\n",
    "print(\"Variance of feature X3 of class Y=2: \", v_X3_Y2)\n",
    "v_X4_Y2 = np.var(X[Y==2, 3], axis=0)\n",
    "print(\"Variance of feature X4 of class Y=2: \", v_X4_Y2)"
   ]
  },
  {
   "cell_type": "code",
   "execution_count": 62,
   "metadata": {},
   "outputs": [
    {
     "data": {
      "image/png": "[encoded data removed]",
      "text/plain": [
       "<Figure size 432x288 with 1 Axes>"
      ]
     },
     "metadata": {
      "needs_background": "light"
     },
     "output_type": "display_data"
    }
   ],
   "source": [
    "gaussian = lambda x, sd, mean: 1/(np.sqrt(2*np.pi)*sd)*np.exp(-(x-mean)**2/(2*(sd**2)))\n",
    "x11 = np.arange(np.min(X[Y==0,0]),np.max(X[Y==0,0]),0.01)\n",
    "x12 = np.arange(np.min(X[Y==1,0]),np.max(X[Y==1,0]),0.01)\n",
    "x13 = np.arange(np.min(X[Y==2,0]),np.max(X[Y==2,0]),0.01)\n",
    "x1y0 = gaussian(x11,sd_X1_Y0,mean_X1_Y0)\n",
    "x1y1 = gaussian(x12,sd_X1_Y1,mean_X1_Y1)\n",
    "x1y2 = gaussian(x13,sd_X1_Y2,mean_X1_Y2)\n",
    "pl.ion()\n",
    "pl.plot(x11,x1y0,'-r',label = \"X1, class 0\")\n",
    "pl.plot(x12,x1y1,'--b',label = \"X1, class 1\")\n",
    "pl.plot(x13,x1y2,'--g',label = \"X1, class 2\")\n",
    "pl.xlabel('x1')\n",
    "pl.ylabel('y(x)')\n",
    "pl.title('Gaussian distribution of feature x1')\n",
    "pl.legend(loc = 'upper right')\n",
    "pl.show()"
   ]
  },
  {
   "cell_type": "code",
   "execution_count": 63,
   "metadata": {},
   "outputs": [
    {
     "data": {
      "image/png": "[encoded data removed]",
      "text/plain": [
       "<Figure size 432x288 with 1 Axes>"
      ]
     },
     "metadata": {
      "needs_background": "light"
     },
     "output_type": "display_data"
    }
   ],
   "source": [
    "x21 = np.arange(np.min(X[Y==0,1]),np.max(X[Y==0,1]),0.01)\n",
    "x22 = np.arange(np.min(X[Y==1,1]),np.max(X[Y==1,1]),0.01)\n",
    "x23 = np.arange(np.min(X[Y==2,1]),np.max(X[Y==2,1]),0.01)\n",
    "x2y0 = gaussian(x21,sd_X2_Y0,mean_X2_Y0)\n",
    "x2y1 = gaussian(x22,sd_X2_Y1,mean_X2_Y1)\n",
    "x2y2 = gaussian(x23,sd_X2_Y2,mean_X2_Y2)\n",
    "pl.ion()\n",
    "pl.plot(x21,x2y0,'-r',label = \"X2, class 0\")\n",
    "pl.plot(x22,x2y1,'--b',label = \"X2, class 1\")\n",
    "pl.plot(x23,x2y2,'--g',label = \"X2, class 2\")\n",
    "pl.xlabel('x2')\n",
    "pl.ylabel('y(x)')\n",
    "pl.title('Gaussian distribution of feature x1')\n",
    "pl.legend(loc = 'upper right')\n",
    "pl.show()"
   ]
  },
  {
   "cell_type": "code",
   "execution_count": 65,
   "metadata": {},
   "outputs": [
    {
     "data": {
      "image/png": "[encoded data removed]",
      "text/plain": [
       "<Figure size 432x288 with 1 Axes>"
      ]
     },
     "metadata": {
      "needs_background": "light"
     },
     "output_type": "display_data"
    }
   ],
   "source": [
    "x31 = np.arange(np.min(X[Y==0,2]),np.max(X[Y==0,2]),0.01)\n",
    "x32 = np.arange(np.min(X[Y==1,2]),np.max(X[Y==1,2]),0.01)\n",
    "x33 = np.arange(np.min(X[Y==2,2]),np.max(X[Y==2,2]),0.01)\n",
    "x3y0 = gaussian(x31,sd_X3_Y0,mean_X3_Y0)\n",
    "x3y1 = gaussian(x32,sd_X3_Y1,mean_X3_Y1)\n",
    "x3y2 = gaussian(x33,sd_X3_Y2,mean_X3_Y2)\n",
    "pl.ion()\n",
    "pl.plot(x31,x3y0,'-r',label = \"X3, class 0\")\n",
    "pl.plot(x32,x3y1,'--b',label = \"X3, class 1\")\n",
    "pl.plot(x33,x3y2,'--g',label = \"X3, class 2\")\n",
    "pl.xlabel('x3')\n",
    "pl.ylabel('y(x)')\n",
    "pl.title('Gaussian distribution of feature x1')\n",
    "pl.legend(loc = 'upper right')\n",
    "pl.show()"
   ]
  },
  {
   "cell_type": "code",
   "execution_count": 66,
   "metadata": {},
   "outputs": [
    {
     "data": {
      "image/png": "[encoded data removed]",
      "text/plain": [
       "<Figure size 432x288 with 1 Axes>"
      ]
     },
     "metadata": {
      "needs_background": "light"
     },
     "output_type": "display_data"
    }
   ],
   "source": [
    "x41 = np.arange(np.min(X[Y==0,3]),np.max(X[Y==0,3]),0.01)\n",
    "x42 = np.arange(np.min(X[Y==1,3]),np.max(X[Y==1,3]),0.01)\n",
    "x43 = np.arange(np.min(X[Y==2,3]),np.max(X[Y==2,3]),0.01)\n",
    "x4y0 = gaussian(x41,sd_X4_Y0,mean_X4_Y0)\n",
    "x4y1 = gaussian(x42,sd_X4_Y1,mean_X4_Y1)\n",
    "x4y2 = gaussian(x43,sd_X4_Y2,mean_X4_Y2)\n",
    "pl.ion()\n",
    "pl.plot(x41,x4y0,'-r',label = \"X4, class 0\")\n",
    "pl.plot(x42,x4y1,'--b',label = \"X4, class 1\")\n",
    "pl.plot(x43,x4y2,'--g',label = \"X4, class 2\")\n",
    "pl.xlabel('x4')\n",
    "pl.ylabel('y(x)')\n",
    "pl.title('Gaussian distribution of feature x1')\n",
    "pl.legend(loc = 'upper right')\n",
    "pl.show()"
   ]
  },
  {
   "cell_type": "markdown",
   "metadata": {},
   "source": [
    "From the 4 plots we can see that all 4 features are approximately normally distributed for the 3 classes.\n",
    "These plots are dependent on the gaussian probability of their respective features. Therefore the guasian probability function for each feature is normally distributed with respect to the classes."
   ]
  },
  {
   "cell_type": "code",
   "execution_count": 69,
   "metadata": {},
   "outputs": [
    {
     "name": "stdout",
     "output_type": "stream",
     "text": [
      "Covariance of class 0 on matrix X: \n",
      " [[4.75       4.42166667 4.35333333 ... 4.23       4.945      4.60166667]\n",
      " [4.42166667 4.14916667 4.055      ... 3.93833333 4.59916667 4.29583333]\n",
      " [4.35333333 4.055      3.99       ... 3.87666667 4.53166667 4.21833333]\n",
      " ...\n",
      " [4.23       3.93833333 3.87666667 ... 3.77       4.405      4.09833333]\n",
      " [4.945      4.59916667 4.53166667 ... 4.405      5.14916667 4.78916667]\n",
      " [4.60166667 4.29583333 4.21833333 ... 4.09833333 4.78916667 4.4625    ]]\n"
     ]
    }
   ],
   "source": [
    "print(\"Covariance of class 0 on matrix X: \\n\" , np.cov(X[Y==0]))"
   ]
  },
  {
   "cell_type": "code",
   "execution_count": 70,
   "metadata": {},
   "outputs": [
    {
     "name": "stdout",
     "output_type": "stream",
     "text": [
      "Covariance of class 1 on matrix X: \n",
      " [[5.6225     4.90666667 5.50666667 ... 4.93583333 3.8875     4.43583333]\n",
      " [4.90666667 4.28666667 4.80666667 ... 4.31       3.38666667 3.87666667]\n",
      " [5.50666667 4.80666667 5.41333333 ... 4.84       3.77333333 4.35333333]\n",
      " ...\n",
      " [4.93583333 4.31       4.84       ... 4.33583333 3.40083333 3.89916667]\n",
      " [3.8875     3.38666667 3.77333333 ... 3.40083333 2.74916667 3.0475    ]\n",
      " [4.43583333 3.87666667 4.35333333 ... 3.89916667 3.0475     3.50916667]]\n"
     ]
    }
   ],
   "source": [
    "print(\"Covariance of class 1 on matrix X: \\n\" , np.cov(X[Y==1]))"
   ]
  },
  {
   "cell_type": "code",
   "execution_count": 72,
   "metadata": {},
   "outputs": [
    {
     "name": "stdout",
     "output_type": "stream",
     "text": [
      "Covariance of class 2 on matrix X: \n",
      " [[3.6425     3.55416667 4.45916667 ... 3.8275     3.3825     3.55833333]\n",
      " [3.55416667 3.49583333 4.4075     ... 3.8025     3.3375     3.50833333]\n",
      " [4.45916667 4.4075     5.57583333 ... 4.82083333 4.20916667 4.42166667]\n",
      " ...\n",
      " [3.8275     3.8025     4.82083333 ... 4.18916667 3.65083333 3.835     ]\n",
      " [3.3825     3.3375     4.20916667 ... 3.65083333 3.20916667 3.375     ]\n",
      " [3.55833333 3.50833333 4.42166667 ... 3.835      3.375      3.55      ]]\n"
     ]
    }
   ],
   "source": [
    "print(\"Covariance of class 2 on matrix X: \\n\" , np.cov(X[Y==2]))"
   ]
  },
  {
   "cell_type": "markdown",
   "metadata": {},
   "source": [
    "probability of feature x1"
   ]
  },
  {
   "cell_type": "code",
   "execution_count": 91,
   "metadata": {},
   "outputs": [
    {
     "name": "stdout",
     "output_type": "stream",
     "text": [
      "1.143105757523885 0.1458470776407223 0.02630347280887356\n"
     ]
    }
   ],
   "source": [
    "probx1y0 = gaussian(5.0, sd_X1_Y0, mean_X1_Y0)\n",
    "probx1y1 = gaussian(5.0, sd_X1_Y1, mean_X1_Y1)\n",
    "probx1y2 = gaussian(5.0, sd_X1_Y2, mean_X1_Y2)\n",
    "print(probx1y0, probx1y1, probx1y2)"
   ]
  },
  {
   "cell_type": "markdown",
   "metadata": {},
   "source": [
    "probability of feature x2"
   ]
  },
  {
   "cell_type": "code",
   "execution_count": 92,
   "metadata": {},
   "outputs": [
    {
     "name": "stdout",
     "output_type": "stream",
     "text": [
      "0.8839372278288494 0.4926957250888866 0.9726471997891608\n"
     ]
    }
   ],
   "source": [
    "probx2y0 = gaussian(3.2, sd_X2_Y0, mean_X2_Y0)\n",
    "probx2y1 = gaussian(3.2, sd_X2_Y1, mean_X2_Y1)\n",
    "probx2y2 = gaussian(3.2, sd_X2_Y2, mean_X2_Y2)\n",
    "print(probx2y0, probx2y1, probx2y2)"
   ]
  },
  {
   "cell_type": "markdown",
   "metadata": {},
   "source": [
    "probability of feature x3"
   ]
  },
  {
   "cell_type": "code",
   "execution_count": 93,
   "metadata": {},
   "outputs": [
    {
     "name": "stdout",
     "output_type": "stream",
     "text": [
      "2.2645306473206452 1.9470515549613375e-08 8.304368963107055e-13\n"
     ]
    }
   ],
   "source": [
    "probx3y0 = gaussian(1.5, sd_X3_Y0, mean_X3_Y0)\n",
    "probx3y1 = gaussian(1.5, sd_X3_Y1, mean_X3_Y1)\n",
    "probx3y2 = gaussian(1.5, sd_X3_Y2, mean_X3_Y2)\n",
    "print(probx3y0, probx3y1, probx3y2)"
   ]
  },
  {
   "cell_type": "markdown",
   "metadata": {},
   "source": [
    "probability of feature x4"
   ]
  },
  {
   "cell_type": "code",
   "execution_count": 96,
   "metadata": {},
   "outputs": [
    {
     "name": "stdout",
     "output_type": "stream",
     "text": [
      "3.344556477748023 2.211146303506047e-06 2.6041338186090563e-09\n"
     ]
    }
   ],
   "source": [
    "probx4y0 = gaussian(0.3, sd_X4_Y0, mean_X4_Y0)\n",
    "probx4y1 = gaussian(0.3, sd_X4_Y1, mean_X4_Y1)\n",
    "probx4y2 = gaussian(0.3, sd_X4_Y2, mean_X4_Y2)\n",
    "print(probx4y0, probx4y1, probx4y2)"
   ]
  },
  {
   "cell_type": "markdown",
   "metadata": {},
   "source": [
    "compare probabilities"
   ]
  },
  {
   "cell_type": "code",
   "execution_count": 97,
   "metadata": {},
   "outputs": [
    {
     "name": "stdout",
     "output_type": "stream",
     "text": [
      "probability of instance belonging to class 0 7.652874191734168\n",
      "probability of instance belonging to class 1 3.0936519783129158e-15\n",
      "probability of instance belonging to class 2 5.532715854023502e-23\n"
     ]
    }
   ],
   "source": [
    "proby0 = probx1y0 * probx2y0 * probx3y0 * probx4y0\n",
    "proby1 = probx1y1 * probx2y1 * probx3y1 * probx4y1\n",
    "proby2 = probx1y2 * probx2y2 * probx3y2 * probx4y2\n",
    "print(\"probability of instance belonging to class 0\" , proby0)\n",
    "print(\"probability of instance belonging to class 1\" , proby1)\n",
    "print(\"probability of instance belonging to class 2\" , proby2)"
   ]
  },
  {
   "cell_type": "code",
   "execution_count": 100,
   "metadata": {},
   "outputs": [
    {
     "name": "stdout",
     "output_type": "stream",
     "text": [
      "7.652874191734168\n"
     ]
    }
   ],
   "source": [
    "a = np.max([proby0,proby1,proby2])\n",
    "print(a)"
   ]
  },
  {
   "cell_type": "markdown",
   "metadata": {},
   "source": [
    "Therefore, from the above output we can conclude that the instance (X1 = 5.0, X2 = 3.2, X3 = 1.5, X4 = 0.3) belongs to Class 0, which is setosa."
   ]
  },
  {
   "cell_type": "code",
   "execution_count": null,
   "metadata": {},
   "outputs": [],
   "source": []
  }
 ],
 "metadata": {
  "kernelspec": {
   "display_name": "Python 3",
   "language": "python",
   "name": "python3"
  },
  "language_info": {
   "codemirror_mode": {
    "name": "ipython",
    "version": 3
   },
   "file_extension": ".py",
   "mimetype": "text/x-python",
   "name": "python",
   "nbconvert_exporter": "python",
   "pygments_lexer": "ipython3",
   "version": "3.7.1"
  }
 },
 "nbformat": 4,
 "nbformat_minor": 2
}
